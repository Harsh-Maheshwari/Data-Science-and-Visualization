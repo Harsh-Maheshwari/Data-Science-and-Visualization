{
 "cells": [
  {
   "cell_type": "code",
   "execution_count": 1,
   "metadata": {},
   "outputs": [],
   "source": [
    "import numpy as np\n",
    "import pandas as pd\n",
    "from datetime import datetime\n",
    "from math import *\n",
    "import matplotlib.pyplot as plt\n",
    "from scipy import stats"
   ]
  },
  {
   "cell_type": "code",
   "execution_count": 2,
   "metadata": {},
   "outputs": [],
   "source": [
    "train = pd.read_csv('train.csv')\n",
    "dev = pd.read_csv('dev.csv')\n",
    "test = pd.read_csv('test.csv')"
   ]
  },
  {
   "cell_type": "code",
   "execution_count": 3,
   "metadata": {},
   "outputs": [
    {
     "data": {
      "image/png": "[encoded data removed]",
      "text/plain": [
       "<Figure size 432x288 with 1 Axes>"
      ]
     },
     "metadata": {
      "needs_background": "light"
     },
     "output_type": "display_data"
    }
   ],
   "source": [
    "plt.hist(list(map(log,train.fare_amount)))\n",
    "#plt.hist(list(map(log,list(map(log,train.fare_amount)))))\n",
    "plt.show()"
   ]
  },
  {
   "cell_type": "code",
   "execution_count": 4,
   "metadata": {},
   "outputs": [],
   "source": [
    "def r(x):\n",
    "    return round(x,3)\n",
    "def distance(x):\n",
    "    lon1,lat1,lon2,lat2  = x[0],x[1],x[2],x[3]\n",
    "    lon1 = radians(float(lon1))\n",
    "    lon2 = radians(float(lon2))\n",
    "    lat1 = radians(float(lat1))\n",
    "    lat2 = radians(float(lat2))\n",
    "\n",
    "    # Haversine formula\n",
    "    dlon = lon2 - lon1\n",
    "    dlat = lat2 - lat1\n",
    "    a = sin(dlat / 2) ** 2 + cos(lat1) * cos(lat2) * sin(dlon / 2) ** 2\n",
    "    c = 2 * asin(sqrt(a))\n",
    "    r = 6371\n",
    "    return (c * r)\n",
    "def dist_sq(x):\n",
    "    return distance(x)*distance(x)\n",
    "\n",
    "\n",
    "def features_train(train):\n",
    "    train.pickup_longitude = list(map(r,train.pickup_longitude))\n",
    "    train.pickup_latitude = list(map(r,train.pickup_latitude))\n",
    "    train.dropoff_longitude = list(map(r,train.dropoff_longitude))\n",
    "    train.dropoff_latitude = list(map(r,train.dropoff_latitude))\n",
    "#     train.fare_amount = list(map(log,list(map(log,train.fare_amount))))\n",
    "    train.fare_amount = list(map(log,train.fare_amount))\n",
    "\n",
    "    train['dt'] = train.pickup_datetime.apply(lambda t: datetime.strptime(t[:-4],\"%Y-%m-%d %H:%M:%S\").timestamp())\n",
    "    train['year'] = train.pickup_datetime.apply(lambda t: datetime.strptime(t[:-4],\"%Y-%m-%d %H:%M:%S\").year)\n",
    "    train['weekday'] = train.pickup_datetime.apply(lambda t: datetime.strptime(t[:-4], \"%Y-%m-%d %H:%M:%S\").weekday())\n",
    "    train['hour'] = train.pickup_datetime.apply(lambda t: datetime.strptime(t[:-4], \"%Y-%m-%d %H:%M:%S\").hour)\n",
    "    train['month'] = train.pickup_datetime.apply(lambda t: datetime.strptime(t[:-4], \"%Y-%m-%d %H:%M:%S\").month)\n",
    "    train['distance'] = list(map(distance,train.iloc[:,[1,2,3,4]].values))\n",
    "    train['distance_sq'] = list(map(dist_sq,train.iloc[:,[1,2,3,4]].values))\n",
    "\n",
    "    train['bias'] = np.ones([np.shape(train)[0],1])\n",
    "\n",
    "    phi = train[['bias','pickup_longitude', 'pickup_latitude','distance_sq',\n",
    "           'dropoff_longitude', 'dropoff_latitude',\n",
    "            'dt', 'year', 'distance']] # , 'weekday', 'hour', 'month', 'passenger_count'\n",
    "    y = train['fare_amount']\n",
    "    \n",
    "    return [phi,y]\n",
    "\n",
    "def features_test(train):\n",
    "\n",
    "    train.pickup_longitude = list(map(r,train.pickup_longitude))\n",
    "    train.pickup_latitude = list(map(r,train.pickup_latitude))\n",
    "    train.dropoff_longitude = list(map(r,train.dropoff_longitude))\n",
    "    train.dropoff_latitude = list(map(r,train.dropoff_latitude))\n",
    "\n",
    "    train['dt'] = train.pickup_datetime.apply(lambda t: datetime.strptime(t[:-4],\"%Y-%m-%d %H:%M:%S\").timestamp())\n",
    "    train['year'] = train.pickup_datetime.apply(lambda t: datetime.strptime(t[:-4],\"%Y-%m-%d %H:%M:%S\").year)\n",
    "    train['weekday'] = train.pickup_datetime.apply(lambda t: datetime.strptime(t[:-4], \"%Y-%m-%d %H:%M:%S\").weekday())\n",
    "    train['hour'] = train.pickup_datetime.apply(lambda t: datetime.strptime(t[:-4], \"%Y-%m-%d %H:%M:%S\").hour)\n",
    "    train['month'] = train.pickup_datetime.apply(lambda t: datetime.strptime(t[:-4], \"%Y-%m-%d %H:%M:%S\").month)\n",
    "    train['distance'] = list(map(distance,train.iloc[:,[1,2,3,4]].values))\n",
    "    train['distance_sq'] = list(map(dist_sq,train.iloc[:,[1,2,3,4]].values))\n",
    "    train['bias'] = np.ones([np.shape(train)[0],1])\n",
    "\n",
    "    phi = train[['bias','pickup_longitude', 'pickup_latitude','distance_sq',\n",
    "           'dropoff_longitude', 'dropoff_latitude', \n",
    "            'dt', 'year', 'distance']] #, 'weekday', 'hour', 'month','passenger_count'\n",
    "    return phi"
   ]
  },
  {
   "cell_type": "code",
   "execution_count": 28,
   "metadata": {},
   "outputs": [],
   "source": [
    "def gradL_mse(phi, w, y):\n",
    "    a = pd.DataFrame(np.dot(phi.T, phi))\n",
    "    b = pd.DataFrame(np.dot(phi.T, y))\n",
    "    c = pd.DataFrame(np.dot(a, w))\n",
    "    return 2*(c - b)\n",
    "\n",
    "def compute_RMSE(phi, w, y):\n",
    "    error = (np.array(y).reshape(np.shape(y)[0],1)- np.dot(phi, w))\n",
    "    return np.linalg.norm(error)\n",
    "\n",
    "def generate_output(phi_test, w):\n",
    "    yp = np.matmul(phi_test, w)\n",
    "    return yp\n",
    "\n",
    "def closed_soln(phi, y):\n",
    "    return np.linalg.pinv(phi).dot(y)\n",
    "\n",
    "def gradient_descent(phi, y):\n",
    "    n = phi.shape[1]\n",
    "    lr = 0.000006\n",
    "    w = np.random.rand(n, 1)\n",
    "    w = pd.DataFrame(w)\n",
    "    while np.linalg.norm(gradL_mse(phi, w, y)) > 0.01:\n",
    "        w = w - lr * gradL_mse(phi, w, y)\n",
    "    return w\n",
    "\n",
    "def sgd(phi, y):\n",
    "    n = phi.shape[1]\n",
    "    lr = 0.00001\n",
    "    w = np.random.rand(n, 1)\n",
    "    phi = phi.to_numpy()\n",
    "    y = y.to_numpy()\n",
    "    while True:\n",
    "        i = np.random.randint(phi.shape[0], size=1)\n",
    "        grad = np.matmul(np.transpose(phi[i, :]), np.matmul(phi[i, :], w) - y[i])\n",
    "        w = w - lr * grad\n",
    "        # print(np.linalg.norm(grad))\n",
    "        if np.linalg.norm(grad) < 0.00001:\n",
    "            return w\n",
    "def pnorm(phi, y, p):\n",
    "    n = phi.shape[1]\n",
    "    lr = 0.000001\n",
    "    w = np.ones(n)\n",
    "    w = pd.DataFrame(w)\n",
    "    lda = 15\n",
    "    while np.linalg.norm(gradL_mse(phi, w, y) + p * lda * np.power(w, p - 1)) > 0.00001:\n",
    "        w = w - lr * (gradL_mse(phi, w, y) + p * lda * np.power(w, p - 1))\n",
    "        print(w)\n",
    "        print(np.linalg.norm(gradL_mse(phi, w, y) + p * lda * np.power(w, p - 1)))\n",
    "    return w"
   ]
  },
  {
   "cell_type": "code",
   "execution_count": 6,
   "metadata": {},
   "outputs": [
    {
     "name": "stderr",
     "output_type": "stream",
     "text": [
      "/home/harsh/anaconda3/lib/python3.7/site-packages/pandas/core/indexing.py:494: SettingWithCopyWarning: \n",
      "A value is trying to be set on a copy of a slice from a DataFrame.\n",
      "Try using .loc[row_indexer,col_indexer] = value instead\n",
      "\n",
      "See the caveats in the documentation: http://pandas.pydata.org/pandas-docs/stable/user_guide/indexing.html#returning-a-view-versus-a-copy\n",
      "  self.obj[item] = s\n",
      "/home/harsh/anaconda3/lib/python3.7/site-packages/pandas/core/indexing.py:576: SettingWithCopyWarning: \n",
      "A value is trying to be set on a copy of a slice from a DataFrame.\n",
      "Try using .loc[row_indexer,col_indexer] = value instead\n",
      "\n",
      "See the caveats in the documentation: http://pandas.pydata.org/pandas-docs/stable/user_guide/indexing.html#returning-a-view-versus-a-copy\n",
      "  self.obj[item_labels[indexer[info_axis]]] = value\n"
     ]
    }
   ],
   "source": [
    "phi_train,y_train = features_train(train)\n",
    "phi_dev,y_dev = features_train(dev)\n",
    "phi_test = features_test(test)\n",
    "\n",
    "for i in range(1,np.shape(phi_train)[1]):\n",
    "    phi_train.iloc[:, i] = (phi_train.iloc[:, i] - np.mean(phi_train.iloc[:, i])) / np.std(phi_train.iloc[:, i])\n",
    "\n",
    "for i in range(1,np.shape(phi_dev)[1]):\n",
    "    phi_dev.iloc[:, i] = (phi_dev.iloc[:, i] - np.mean(phi_dev.iloc[:, i])) / np.std(phi_dev.iloc[:, i])\n",
    "    \n",
    "for i in range(1,np.shape(phi_test)[1]):\n",
    "    phi_test.iloc[:, i] = (phi_test.iloc[:, i] - np.mean(phi_test.iloc[:, i])) / np.std(phi_test.iloc[:, i])"
   ]
  },
  {
   "cell_type": "code",
   "execution_count": 7,
   "metadata": {},
   "outputs": [],
   "source": [
    "import pickle\n",
    "try : \n",
    "    w_b1 = pickle.load(open(\"w_b1.p\", \"rb\"))\n",
    "except :\n",
    "    w_b1 = pnorm(phi_train, y_train, 2)\n",
    "    pickle.dump(w_b1, open(\"w_b1.p\", \"wb\"))"
   ]
  },
  {
   "cell_type": "code",
   "execution_count": 8,
   "metadata": {},
   "outputs": [
    {
     "data": {
      "text/html": [
       "<div>\n",
       "<style scoped>\n",
       "    .dataframe tbody tr th:only-of-type {\n",
       "        vertical-align: middle;\n",
       "    }\n",
       "\n",
       "    .dataframe tbody tr th {\n",
       "        vertical-align: top;\n",
       "    }\n",
       "\n",
       "    .dataframe thead th {\n",
       "        text-align: right;\n",
       "    }\n",
       "</style>\n",
       "<table border=\"1\" class=\"dataframe\">\n",
       "  <thead>\n",
       "    <tr style=\"text-align: right;\">\n",
       "      <th></th>\n",
       "      <th>0</th>\n",
       "    </tr>\n",
       "  </thead>\n",
       "  <tbody>\n",
       "    <tr>\n",
       "      <td>0</td>\n",
       "      <td>2.216847</td>\n",
       "    </tr>\n",
       "    <tr>\n",
       "      <td>1</td>\n",
       "      <td>0.018588</td>\n",
       "    </tr>\n",
       "    <tr>\n",
       "      <td>2</td>\n",
       "      <td>-0.024095</td>\n",
       "    </tr>\n",
       "    <tr>\n",
       "      <td>3</td>\n",
       "      <td>-0.376453</td>\n",
       "    </tr>\n",
       "    <tr>\n",
       "      <td>4</td>\n",
       "      <td>0.031042</td>\n",
       "    </tr>\n",
       "    <tr>\n",
       "      <td>5</td>\n",
       "      <td>-0.035681</td>\n",
       "    </tr>\n",
       "    <tr>\n",
       "      <td>6</td>\n",
       "      <td>0.149717</td>\n",
       "    </tr>\n",
       "    <tr>\n",
       "      <td>7</td>\n",
       "      <td>-0.067719</td>\n",
       "    </tr>\n",
       "    <tr>\n",
       "      <td>8</td>\n",
       "      <td>0.615182</td>\n",
       "    </tr>\n",
       "  </tbody>\n",
       "</table>\n",
       "</div>"
      ],
      "text/plain": [
       "          0\n",
       "0  2.216847\n",
       "1  0.018588\n",
       "2 -0.024095\n",
       "3 -0.376453\n",
       "4  0.031042\n",
       "5 -0.035681\n",
       "6  0.149717\n",
       "7 -0.067719\n",
       "8  0.615182"
      ]
     },
     "execution_count": 8,
     "metadata": {},
     "output_type": "execute_result"
    }
   ],
   "source": [
    "w_b1"
   ]
  },
  {
   "cell_type": "code",
   "execution_count": 32,
   "metadata": {},
   "outputs": [
    {
     "name": "stdout",
     "output_type": "stream",
     "text": [
      "53.94496544467879\n"
     ]
    }
   ],
   "source": [
    "rmse = compute_RMSE(phi_dev[:20000], w_b1, y_dev[:20000])\n",
    "print(rmse)\n",
    "y = generate_output(phi_test.to_numpy(), w_b1.to_numpy())\n",
    "np.savetxt('./sub.csv', y, delimiter=\",\")"
   ]
  }
 ],
 "metadata": {
  "kernelspec": {
   "display_name": "Python 3",
   "language": "python",
   "name": "python3"
  },
  "language_info": {
   "codemirror_mode": {
    "name": "ipython",
    "version": 3
   },
   "file_extension": ".py",
   "mimetype": "text/x-python",
   "name": "python",
   "nbconvert_exporter": "python",
   "pygments_lexer": "ipython3",
   "version": "3.7.4"
  }
 },
 "nbformat": 4,
 "nbformat_minor": 2
}
